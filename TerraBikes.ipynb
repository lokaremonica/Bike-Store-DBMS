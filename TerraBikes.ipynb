{
 "cells": [
  {
   "cell_type": "code",
   "execution_count": 1,
   "metadata": {},
   "outputs": [
    {
     "name": "stderr",
     "output_type": "stream",
     "text": [
      "/Users/eshitashitij/My Documents/GUI Project/BikeStoreManagerDashDialog.py:1018: UserWarning: FixedFormatter should only be used together with FixedLocator\n",
      "  ax.set_xticklabels(ax.get_xticklabels(), rotation=0, ha='center', fontsize=6)\n",
      "/Users/eshitashitij/My Documents/GUI Project/BikeStoreManagerDashDialog.py:1018: UserWarning: FixedFormatter should only be used together with FixedLocator\n",
      "  ax.set_xticklabels(ax.get_xticklabels(), rotation=0, ha='center', fontsize=6)\n",
      "/Users/eshitashitij/My Documents/GUI Project/BikeStoreManagerDashDialog.py:1018: UserWarning: FixedFormatter should only be used together with FixedLocator\n",
      "  ax.set_xticklabels(ax.get_xticklabels(), rotation=0, ha='center', fontsize=6)\n",
      "/Users/eshitashitij/My Documents/GUI Project/BikeStoreManagerDashDialog.py:1018: UserWarning: FixedFormatter should only be used together with FixedLocator\n",
      "  ax.set_xticklabels(ax.get_xticklabels(), rotation=0, ha='center', fontsize=6)\n",
      "/Users/eshitashitij/My Documents/GUI Project/BikeStoreManagerDashDialog.py:1018: UserWarning: FixedFormatter should only be used together with FixedLocator\n",
      "  ax.set_xticklabels(ax.get_xticklabels(), rotation=0, ha='center', fontsize=6)\n",
      "/Users/eshitashitij/My Documents/GUI Project/BikeStoreManagerDashDialog.py:1018: UserWarning: FixedFormatter should only be used together with FixedLocator\n",
      "  ax.set_xticklabels(ax.get_xticklabels(), rotation=0, ha='center', fontsize=6)\n"
     ]
    },
    {
     "data": {
      "text/plain": [
       "0"
      ]
     },
     "execution_count": 1,
     "metadata": {},
     "output_type": "execute_result"
    }
   ],
   "source": [
    "import sys\n",
    "from PyQt5.QtWidgets import QApplication\n",
    "from BikeStoreMainWin import BikeStoreMainWin\n",
    "\n",
    "app = QApplication(sys.argv)\n",
    "window = BikeStoreMainWin()\n",
    "app.exec_()"
   ]
  },
  {
   "cell_type": "code",
   "execution_count": null,
   "metadata": {},
   "outputs": [],
   "source": []
  }
 ],
 "metadata": {
  "kernelspec": {
   "display_name": "base",
   "language": "python",
   "name": "python3"
  },
  "language_info": {
   "codemirror_mode": {
    "name": "ipython",
    "version": 3
   },
   "file_extension": ".py",
   "mimetype": "text/x-python",
   "name": "python",
   "nbconvert_exporter": "python",
   "pygments_lexer": "ipython3",
   "version": "3.11.4"
  }
 },
 "nbformat": 4,
 "nbformat_minor": 2
}
